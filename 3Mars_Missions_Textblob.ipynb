{
  "nbformat": 4,
  "nbformat_minor": 0,
  "metadata": {
    "colab": {
      "name": "Analyze_data_nltk.ipynb",
      "provenance": [],
      "collapsed_sections": [],
      "include_colab_link": true
    },
    "kernelspec": {
      "name": "python3",
      "display_name": "Python 3"
    }
  },
  "cells": [
    {
      "cell_type": "markdown",
      "metadata": {
        "id": "view-in-github",
        "colab_type": "text"
      },
      "source": [
        "<a href=\"https://colab.research.google.com/github/isharhan/hello-world/blob/main/3Mars_Missions_Textblob.ipynb\" target=\"_parent\"><img src=\"https://colab.research.google.com/assets/colab-badge.svg\" alt=\"Open In Colab\"/></a>"
      ]
    },
    {
      "cell_type": "markdown",
      "metadata": {
        "id": "qPUJBcl0YyGj"
      },
      "source": [
        "Analyze The Sentiment of Tweets From Twitter Data and Tweepy in Python \n",
        "Ref: https://www.earthdatascience.org/courses/use-data-open-source-python/intro-to-apis/analyze-tweet-sentiment-in-python/\n"
      ]
    },
    {
      "cell_type": "code",
      "metadata": {
        "colab": {
          "base_uri": "https://localhost:8080/"
        },
        "id": "kMV9q5D89H6T",
        "outputId": "630a41a3-cd87-4bed-b281-01a1a4cfa494"
      },
      "source": [
        "pip install tweepy"
      ],
      "execution_count": 1,
      "outputs": [
        {
          "output_type": "stream",
          "text": [
            "Requirement already satisfied: tweepy in /usr/local/lib/python3.6/dist-packages (3.6.0)\n",
            "Requirement already satisfied: requests-oauthlib>=0.7.0 in /usr/local/lib/python3.6/dist-packages (from tweepy) (1.3.0)\n",
            "Requirement already satisfied: six>=1.10.0 in /usr/local/lib/python3.6/dist-packages (from tweepy) (1.15.0)\n",
            "Requirement already satisfied: PySocks>=1.5.7 in /usr/local/lib/python3.6/dist-packages (from tweepy) (1.7.1)\n",
            "Requirement already satisfied: requests>=2.11.1 in /usr/local/lib/python3.6/dist-packages (from tweepy) (2.23.0)\n",
            "Requirement already satisfied: oauthlib>=3.0.0 in /usr/local/lib/python3.6/dist-packages (from requests-oauthlib>=0.7.0->tweepy) (3.1.0)\n",
            "Requirement already satisfied: idna<3,>=2.5 in /usr/local/lib/python3.6/dist-packages (from requests>=2.11.1->tweepy) (2.10)\n",
            "Requirement already satisfied: certifi>=2017.4.17 in /usr/local/lib/python3.6/dist-packages (from requests>=2.11.1->tweepy) (2020.12.5)\n",
            "Requirement already satisfied: chardet<4,>=3.0.2 in /usr/local/lib/python3.6/dist-packages (from requests>=2.11.1->tweepy) (3.0.4)\n",
            "Requirement already satisfied: urllib3!=1.25.0,!=1.25.1,<1.26,>=1.21.1 in /usr/local/lib/python3.6/dist-packages (from requests>=2.11.1->tweepy) (1.24.3)\n"
          ],
          "name": "stdout"
        }
      ]
    },
    {
      "cell_type": "code",
      "metadata": {
        "colab": {
          "base_uri": "https://localhost:8080/"
        },
        "id": "LHID7cOU9R5T",
        "outputId": "8daef055-aa47-4afe-f671-e231f2d9e3c1"
      },
      "source": [
        "pip install pandas"
      ],
      "execution_count": 2,
      "outputs": [
        {
          "output_type": "stream",
          "text": [
            "Requirement already satisfied: pandas in /usr/local/lib/python3.6/dist-packages (1.1.5)\n",
            "Requirement already satisfied: pytz>=2017.2 in /usr/local/lib/python3.6/dist-packages (from pandas) (2018.9)\n",
            "Requirement already satisfied: python-dateutil>=2.7.3 in /usr/local/lib/python3.6/dist-packages (from pandas) (2.8.1)\n",
            "Requirement already satisfied: numpy>=1.15.4 in /usr/local/lib/python3.6/dist-packages (from pandas) (1.19.5)\n",
            "Requirement already satisfied: six>=1.5 in /usr/local/lib/python3.6/dist-packages (from python-dateutil>=2.7.3->pandas) (1.15.0)\n"
          ],
          "name": "stdout"
        }
      ]
    },
    {
      "cell_type": "code",
      "metadata": {
        "colab": {
          "base_uri": "https://localhost:8080/"
        },
        "id": "IPzd_u8z9XrY",
        "outputId": "d5ae26e4-6176-4763-f93d-9339b939e55c"
      },
      "source": [
        "pip install matplotlib"
      ],
      "execution_count": 3,
      "outputs": [
        {
          "output_type": "stream",
          "text": [
            "Requirement already satisfied: matplotlib in /usr/local/lib/python3.6/dist-packages (3.2.2)\n",
            "Requirement already satisfied: numpy>=1.11 in /usr/local/lib/python3.6/dist-packages (from matplotlib) (1.19.5)\n",
            "Requirement already satisfied: pyparsing!=2.0.4,!=2.1.2,!=2.1.6,>=2.0.1 in /usr/local/lib/python3.6/dist-packages (from matplotlib) (2.4.7)\n",
            "Requirement already satisfied: python-dateutil>=2.1 in /usr/local/lib/python3.6/dist-packages (from matplotlib) (2.8.1)\n",
            "Requirement already satisfied: cycler>=0.10 in /usr/local/lib/python3.6/dist-packages (from matplotlib) (0.10.0)\n",
            "Requirement already satisfied: kiwisolver>=1.0.1 in /usr/local/lib/python3.6/dist-packages (from matplotlib) (1.3.1)\n",
            "Requirement already satisfied: six>=1.5 in /usr/local/lib/python3.6/dist-packages (from python-dateutil>=2.1->matplotlib) (1.15.0)\n"
          ],
          "name": "stdout"
        }
      ]
    },
    {
      "cell_type": "code",
      "metadata": {
        "colab": {
          "base_uri": "https://localhost:8080/"
        },
        "id": "gxIAEOGR9a1h",
        "outputId": "ca5d6820-8107-47a5-ec9f-6482865116db"
      },
      "source": [
        "pip install seaborn"
      ],
      "execution_count": 4,
      "outputs": [
        {
          "output_type": "stream",
          "text": [
            "Requirement already satisfied: seaborn in /usr/local/lib/python3.6/dist-packages (0.11.1)\n",
            "Requirement already satisfied: matplotlib>=2.2 in /usr/local/lib/python3.6/dist-packages (from seaborn) (3.2.2)\n",
            "Requirement already satisfied: scipy>=1.0 in /usr/local/lib/python3.6/dist-packages (from seaborn) (1.4.1)\n",
            "Requirement already satisfied: numpy>=1.15 in /usr/local/lib/python3.6/dist-packages (from seaborn) (1.19.5)\n",
            "Requirement already satisfied: pandas>=0.23 in /usr/local/lib/python3.6/dist-packages (from seaborn) (1.1.5)\n",
            "Requirement already satisfied: kiwisolver>=1.0.1 in /usr/local/lib/python3.6/dist-packages (from matplotlib>=2.2->seaborn) (1.3.1)\n",
            "Requirement already satisfied: cycler>=0.10 in /usr/local/lib/python3.6/dist-packages (from matplotlib>=2.2->seaborn) (0.10.0)\n",
            "Requirement already satisfied: python-dateutil>=2.1 in /usr/local/lib/python3.6/dist-packages (from matplotlib>=2.2->seaborn) (2.8.1)\n",
            "Requirement already satisfied: pyparsing!=2.0.4,!=2.1.2,!=2.1.6,>=2.0.1 in /usr/local/lib/python3.6/dist-packages (from matplotlib>=2.2->seaborn) (2.4.7)\n",
            "Requirement already satisfied: pytz>=2017.2 in /usr/local/lib/python3.6/dist-packages (from pandas>=0.23->seaborn) (2018.9)\n",
            "Requirement already satisfied: six in /usr/local/lib/python3.6/dist-packages (from cycler>=0.10->matplotlib>=2.2->seaborn) (1.15.0)\n"
          ],
          "name": "stdout"
        }
      ]
    },
    {
      "cell_type": "code",
      "metadata": {
        "colab": {
          "base_uri": "https://localhost:8080/"
        },
        "id": "NpPvANFP9fwp",
        "outputId": "1388ccaf-db3a-4acb-f404-54e6d3aed279"
      },
      "source": [
        "pip install nltk"
      ],
      "execution_count": 5,
      "outputs": [
        {
          "output_type": "stream",
          "text": [
            "Requirement already satisfied: nltk in /usr/local/lib/python3.6/dist-packages (3.2.5)\n",
            "Requirement already satisfied: six in /usr/local/lib/python3.6/dist-packages (from nltk) (1.15.0)\n"
          ],
          "name": "stdout"
        }
      ]
    },
    {
      "cell_type": "code",
      "metadata": {
        "colab": {
          "base_uri": "https://localhost:8080/"
        },
        "id": "G6C34rE39otp",
        "outputId": "c0df2092-d341-4fa3-c1e4-e349b60b6035"
      },
      "source": [
        "pip install networkx"
      ],
      "execution_count": 6,
      "outputs": [
        {
          "output_type": "stream",
          "text": [
            "Requirement already satisfied: networkx in /usr/local/lib/python3.6/dist-packages (2.5)\n",
            "Requirement already satisfied: decorator>=4.3.0 in /usr/local/lib/python3.6/dist-packages (from networkx) (4.4.2)\n"
          ],
          "name": "stdout"
        }
      ]
    },
    {
      "cell_type": "code",
      "metadata": {
        "colab": {
          "base_uri": "https://localhost:8080/"
        },
        "id": "KjIH6hEv9u3O",
        "outputId": "33cc1f98-e186-4f7f-e2fb-b7b2579449dd"
      },
      "source": [
        "pip install textblob"
      ],
      "execution_count": 7,
      "outputs": [
        {
          "output_type": "stream",
          "text": [
            "Requirement already satisfied: textblob in /usr/local/lib/python3.6/dist-packages (0.15.3)\n",
            "Requirement already satisfied: nltk>=3.1 in /usr/local/lib/python3.6/dist-packages (from textblob) (3.2.5)\n",
            "Requirement already satisfied: six in /usr/local/lib/python3.6/dist-packages (from nltk>=3.1->textblob) (1.15.0)\n"
          ],
          "name": "stdout"
        }
      ]
    },
    {
      "cell_type": "code",
      "metadata": {
        "id": "s1GOJj11QcnC"
      },
      "source": [
        "import os\n",
        "import pandas as pd\n",
        "import matplotlib.pyplot as plt\n",
        "import seaborn as sns\n",
        "import itertools\n",
        "import collections\n",
        "\n",
        "import tweepy as tw\n",
        "import nltk\n",
        "from nltk.corpus import stopwords\n",
        "import re\n",
        "import networkx\n",
        "from textblob import TextBlob\n",
        "\n",
        "import warnings\n",
        "warnings.filterwarnings(\"ignore\")\n",
        "\n",
        "sns.set(font_scale=1.5)\n",
        "sns.set_style(\"whitegrid\")"
      ],
      "execution_count": 8,
      "outputs": []
    },
    {
      "cell_type": "code",
      "metadata": {
        "id": "xUkjIO7GQfTp"
      },
      "source": [
        "consumer_key= 'aKAvYeraEMQNHbzVG22rz3uMH'\n",
        "consumer_secret= 'G5I0UZmi9TTadbQPppIwbYTPTIqAj6tkjswbOHmEddYZAaXpxt'\n",
        "access_token= '1850387936-ZPLc7EWyknMNUivIokQV3KO8ZTRiXrRcPEuOfOr'\n",
        "access_token_secret= 'PlIKokmRHHs8SPkmrZrthsDV6ZvCFdiE2DthySmA2luO7'"
      ],
      "execution_count": 9,
      "outputs": []
    },
    {
      "cell_type": "code",
      "metadata": {
        "id": "ADWKXvChQqS_"
      },
      "source": [
        "auth = tw.OAuthHandler(consumer_key, consumer_secret)\n",
        "auth.set_access_token(access_token, access_token_secret)\n",
        "api = tw.API(auth, wait_on_rate_limit=True)"
      ],
      "execution_count": 10,
      "outputs": []
    },
    {
      "cell_type": "code",
      "metadata": {
        "id": "ErTndniS9723"
      },
      "source": [
        "def remove_url(txt):\n",
        "    \"\"\"Replace URLs found in a text string with nothing \n",
        "    (i.e. it will remove the URL from the string).\n",
        "\n",
        "    Parameters\n",
        "    ----------\n",
        "    txt : string\n",
        "        A text string that you want to parse and remove urls.\n",
        "\n",
        "    Returns\n",
        "    -------\n",
        "    The same txt string with url's removed.\n",
        "    \"\"\"\n",
        "\n",
        "    return \" \".join(re.sub(\"([^0-9A-Za-z \\t])|(\\w+:\\/\\/\\S+)\", \"\", txt).split())"
      ],
      "execution_count": 11,
      "outputs": []
    },
    {
      "cell_type": "code",
      "metadata": {
        "id": "QLB5of8dCWpj"
      },
      "source": [
        "# Create a custom search term and define the number of tweets\n",
        "search_term = \"#mars -filter:retweets\"\n",
        "\n",
        "tweets = tw.Cursor(api.search,\n",
        "                   q=search_term,\n",
        "                   lang=\"en\",\n",
        "                   since='2020-07-19').items(1000)\n",
        "\n",
        "# Remove URLs\n",
        "tweets_no_urls = [remove_url(tweet.text) for tweet in tweets]"
      ],
      "execution_count": null,
      "outputs": []
    },
    {
      "cell_type": "code",
      "metadata": {
        "id": "I-IJ8RDbQu7L"
      },
      "source": [
        "# Create a custom search term and define the number of tweets\n",
        "search_term = \"#emirates+hope -filter:retweets\"\n",
        "\n",
        "tweets = tw.Cursor(api.search,\n",
        "                   q=search_term,\n",
        "                   lang=\"en\",\n",
        "                   since='2020-07-19').items(1000)\n",
        "\n",
        "# Remove URLs\n",
        "tweets_no_urls = [remove_url(tweet.text) for tweet in tweets]"
      ],
      "execution_count": 30,
      "outputs": []
    },
    {
      "cell_type": "code",
      "metadata": {
        "colab": {
          "base_uri": "https://localhost:8080/"
        },
        "id": "s0CTnztW6iVk",
        "outputId": "b5c720d7-a635-4e1b-f91c-a10ceddcab7e"
      },
      "source": [
        "# Create textblob objects of the tweets\n",
        "sentiment_objects = [TextBlob(tweet) for tweet in tweets_no_urls]\n",
        "\n",
        "sentiment_objects[0].polarity, sentiment_objects[0]\n"
      ],
      "execution_count": 38,
      "outputs": [
        {
          "output_type": "execute_result",
          "data": {
            "text/plain": [
              "(0.0,\n",
              " TextBlob(\"Claim UAE has reserved jobs for those born on 9 Feb the day when HOPE Probe arrived on the orbit of Mars\"))"
            ]
          },
          "metadata": {
            "tags": []
          },
          "execution_count": 38
        }
      ]
    },
    {
      "cell_type": "code",
      "metadata": {
        "colab": {
          "base_uri": "https://localhost:8080/"
        },
        "id": "V3SmS-thQxL2",
        "outputId": "459b72e0-054b-4539-afa0-6130f8acff21"
      },
      "source": [
        "# Create textblob objects of the tweets\n",
        "sentiment_objects = [TextBlob(tweet) for tweet in tweets_no_urls]\n",
        "\n",
        "sentiment_objects[1].polarity, sentiment_objects[1]\n",
        "\n"
      ],
      "execution_count": 40,
      "outputs": [
        {
          "output_type": "execute_result",
          "data": {
            "text/plain": [
              "(0.65,\n",
              " TextBlob(\"Most trending hashtagArabsToMars Proud moment for UAEHope Probe draws over 56000 tweets and comments\"))"
            ]
          },
          "metadata": {
            "tags": []
          },
          "execution_count": 40
        }
      ]
    },
    {
      "cell_type": "code",
      "metadata": {
        "colab": {
          "base_uri": "https://localhost:8080/"
        },
        "id": "n9itFaKC6k_r",
        "outputId": "9c090872-7975-495b-f5e7-ab62fcfc746b"
      },
      "source": [
        "sentiment_objects = [TextBlob(tweet) for tweet in tweets_no_urls]\n",
        "\n",
        "sentiment_objects[2].polarity, sentiment_objects[2]"
      ],
      "execution_count": 41,
      "outputs": [
        {
          "output_type": "execute_result",
          "data": {
            "text/plain": [
              "(0.375,\n",
              " TextBlob(\"Amazed and wowed by the recent achievements obtained by the Emirates After the successful landing of the UAEs H\"))"
            ]
          },
          "metadata": {
            "tags": []
          },
          "execution_count": 41
        }
      ]
    },
    {
      "cell_type": "code",
      "metadata": {
        "colab": {
          "base_uri": "https://localhost:8080/"
        },
        "id": "sCmgVIhI67_x",
        "outputId": "cf4ebbce-5d70-4445-eaec-eceea6ac919d"
      },
      "source": [
        "sentiment_objects = [TextBlob(tweet) for tweet in tweets_no_urls]\n",
        "\n",
        "sentiment_objects[3].polarity, sentiment_objects[3]"
      ],
      "execution_count": 36,
      "outputs": [
        {
          "output_type": "execute_result",
          "data": {
            "text/plain": [
              "(0.0,\n",
              " TextBlob(\"The landmarks of our country Emirates are the beauty and decoration of hope\"))"
            ]
          },
          "metadata": {
            "tags": []
          },
          "execution_count": 36
        }
      ]
    },
    {
      "cell_type": "code",
      "metadata": {
        "colab": {
          "base_uri": "https://localhost:8080/"
        },
        "id": "s8hp3Y1uRHp9",
        "outputId": "605ddf12-db34-4d6b-f412-59677facb074"
      },
      "source": [
        "# Create list of polarity valuesx and tweet text\n",
        "sentiment_values = [[tweet.sentiment.polarity, str(tweet)] for tweet in sentiment_objects]\n",
        "\n",
        "sentiment_values[0]"
      ],
      "execution_count": 42,
      "outputs": [
        {
          "output_type": "execute_result",
          "data": {
            "text/plain": [
              "[0.0,\n",
              " 'Claim UAE has reserved jobs for those born on 9 Feb the day when HOPE Probe arrived on the orbit of Mars']"
            ]
          },
          "metadata": {
            "tags": []
          },
          "execution_count": 42
        }
      ]
    },
    {
      "cell_type": "code",
      "metadata": {
        "colab": {
          "base_uri": "https://localhost:8080/",
          "height": 173
        },
        "id": "D42OxBHSRlSA",
        "outputId": "a236eeb8-ee6c-4752-e735-8e67663e69c4"
      },
      "source": [
        "# Create dataframe containing the polarity value and tweet text\n",
        "sentiment_df = pd.DataFrame(sentiment_values, columns=[\"polarity\", \"tweet\"])\n",
        "\n",
        "sentiment_df.head()"
      ],
      "execution_count": 43,
      "outputs": [
        {
          "output_type": "execute_result",
          "data": {
            "text/html": [
              "<div>\n",
              "<style scoped>\n",
              "    .dataframe tbody tr th:only-of-type {\n",
              "        vertical-align: middle;\n",
              "    }\n",
              "\n",
              "    .dataframe tbody tr th {\n",
              "        vertical-align: top;\n",
              "    }\n",
              "\n",
              "    .dataframe thead th {\n",
              "        text-align: right;\n",
              "    }\n",
              "</style>\n",
              "<table border=\"1\" class=\"dataframe\">\n",
              "  <thead>\n",
              "    <tr style=\"text-align: right;\">\n",
              "      <th></th>\n",
              "      <th>polarity</th>\n",
              "      <th>tweet</th>\n",
              "    </tr>\n",
              "  </thead>\n",
              "  <tbody>\n",
              "    <tr>\n",
              "      <th>0</th>\n",
              "      <td>0.000</td>\n",
              "      <td>Claim UAE has reserved jobs for those born on ...</td>\n",
              "    </tr>\n",
              "    <tr>\n",
              "      <th>1</th>\n",
              "      <td>0.650</td>\n",
              "      <td>Most trending hashtagArabsToMars Proud moment ...</td>\n",
              "    </tr>\n",
              "    <tr>\n",
              "      <th>2</th>\n",
              "      <td>0.375</td>\n",
              "      <td>Amazed and wowed by the recent achievements ob...</td>\n",
              "    </tr>\n",
              "    <tr>\n",
              "      <th>3</th>\n",
              "      <td>0.000</td>\n",
              "      <td>The landmarks of our country Emirates are the ...</td>\n",
              "    </tr>\n",
              "  </tbody>\n",
              "</table>\n",
              "</div>"
            ],
            "text/plain": [
              "   polarity                                              tweet\n",
              "0     0.000  Claim UAE has reserved jobs for those born on ...\n",
              "1     0.650  Most trending hashtagArabsToMars Proud moment ...\n",
              "2     0.375  Amazed and wowed by the recent achievements ob...\n",
              "3     0.000  The landmarks of our country Emirates are the ..."
            ]
          },
          "metadata": {
            "tags": []
          },
          "execution_count": 43
        }
      ]
    },
    {
      "cell_type": "code",
      "metadata": {
        "colab": {
          "base_uri": "https://localhost:8080/",
          "height": 405
        },
        "id": "S972LSyzRu-K",
        "outputId": "81950351-05fa-4ae0-945a-c9fa6a546c50"
      },
      "source": [
        "fig, ax = plt.subplots(figsize=(8, 6))\n",
        "\n",
        "# Plot histogram of the polarity values\n",
        "sentiment_df.hist(bins=[-1, -0.75, -0.5, -0.25, 0.25, 0.5, 0.75, 1],\n",
        "             ax=ax,\n",
        "             color=\"green\")\n",
        "\n",
        "plt.title(\"Sentiments from Tweets on Emirates Hope Mission\")\n",
        "plt.show()"
      ],
      "execution_count": 62,
      "outputs": [
        {
          "output_type": "display_data",
          "data": {
            "image/png": "[encoded data removed]",
            "text/plain": [
              "<Figure size 576x432 with 1 Axes>"
            ]
          },
          "metadata": {
            "tags": []
          }
        }
      ]
    },
    {
      "cell_type": "code",
      "metadata": {
        "id": "0EygXd04R2y_"
      },
      "source": [
        "# Remove polarity values equal to zero\n",
        "sentiment_df = sentiment_df[sentiment_df.polarity != 0]"
      ],
      "execution_count": null,
      "outputs": []
    },
    {
      "cell_type": "code",
      "metadata": {
        "colab": {
          "base_uri": "https://localhost:8080/",
          "height": 405
        },
        "id": "P6TP5eW7SHil",
        "outputId": "ddaf64e7-e2b3-4db4-ad84-08860ad2f9bf"
      },
      "source": [
        "fig, ax = plt.subplots(figsize=(8, 6))\n",
        "\n",
        "# Plot histogram with break at zero\n",
        "sentiment_df.hist(bins=[-1, -0.75, -0.5, -0.25, 0.0, 0.25, 0.5, 0.75, 1],\n",
        "             ax=ax,\n",
        "             color=\"green\")\n",
        "\n",
        "plt.title(\"Sentiments from Tweets on mars Hope Mission\")\n",
        "plt.show()"
      ],
      "execution_count": 64,
      "outputs": [
        {
          "output_type": "display_data",
          "data": {
            "image/png": "[encoded data removed]",
            "text/plain": [
              "<Figure size 576x432 with 1 Axes>"
            ]
          },
          "metadata": {
            "tags": []
          }
        }
      ]
    },
    {
      "cell_type": "code",
      "metadata": {
        "colab": {
          "base_uri": "https://localhost:8080/"
        },
        "id": "jbH1B0SdSJ0f",
        "outputId": "8cffe055-31af-44b8-b482-c035fcf47a6c"
      },
      "source": [
        "search_term = \"#mars -filter:retweets\"\n",
        "\n",
        "tweets = tw.Cursor(api.search,\n",
        "                   q=search_term,\n",
        "                   lang=\"en\",\n",
        "                   since='2020-07-19').items(1000)\n",
        "\n",
        "# Remove URLs and create textblob object for each tweet\n",
        "all_tweets_no_urls = [TextBlob(remove_url(tweet.text)) for tweet in tweets]\n",
        "\n",
        "all_tweets_no_urls[:5]"
      ],
      "execution_count": 50,
      "outputs": [
        {
          "output_type": "execute_result",
          "data": {
            "text/plain": [
              "[TextBlob(\"Skys the limit with OceanOutdoorUK Amazing live stream of NASAPersevere landing on Mars OOH Outdoor\"),\n",
              " TextBlob(\"I want to congratulate NASA for such brilliant Mars coverage on YouTube Its educational its wonderful and you\"),\n",
              " TextBlob(\"Nice cartoons Percy on Mars Space technologies planetology NASAPersevere will find support from\"),\n",
              " TextBlob(\"fundNASA NASAPerseverance NASAWebb lets continue the explorations of mankind back to themoon Mars and beyond\"),\n",
              " TextBlob(\"Alien on Earth Human on Mars Fiction Reality\")]"
            ]
          },
          "metadata": {
            "tags": []
          },
          "execution_count": 50
        }
      ]
    },
    {
      "cell_type": "code",
      "metadata": {
        "colab": {
          "base_uri": "https://localhost:8080/",
          "height": 204
        },
        "id": "JCt5XIQmStI8",
        "outputId": "bbe222eb-0e5a-4a24-e37a-02504379b2d5"
      },
      "source": [
        "# Calculate polarity of tweets\n",
        "wild_sent_values = [[tweet.sentiment.polarity, str(tweet)] for tweet in all_tweets_no_urls]\n",
        "\n",
        "# Create dataframe containing polarity values and tweet text\n",
        "wild_sent_df = pd.DataFrame(wild_sent_values, columns=[\"polarity\", \"tweet\"])\n",
        "wild_sent_df = wild_sent_df[wild_sent_df.polarity != 0]\n",
        "\n",
        "wild_sent_df.head()"
      ],
      "execution_count": 51,
      "outputs": [
        {
          "output_type": "execute_result",
          "data": {
            "text/html": [
              "<div>\n",
              "<style scoped>\n",
              "    .dataframe tbody tr th:only-of-type {\n",
              "        vertical-align: middle;\n",
              "    }\n",
              "\n",
              "    .dataframe tbody tr th {\n",
              "        vertical-align: top;\n",
              "    }\n",
              "\n",
              "    .dataframe thead th {\n",
              "        text-align: right;\n",
              "    }\n",
              "</style>\n",
              "<table border=\"1\" class=\"dataframe\">\n",
              "  <thead>\n",
              "    <tr style=\"text-align: right;\">\n",
              "      <th></th>\n",
              "      <th>polarity</th>\n",
              "      <th>tweet</th>\n",
              "    </tr>\n",
              "  </thead>\n",
              "  <tbody>\n",
              "    <tr>\n",
              "      <th>0</th>\n",
              "      <td>0.368182</td>\n",
              "      <td>Skys the limit with OceanOutdoorUK Amazing liv...</td>\n",
              "    </tr>\n",
              "    <tr>\n",
              "      <th>1</th>\n",
              "      <td>0.537500</td>\n",
              "      <td>I want to congratulate NASA for such brilliant...</td>\n",
              "    </tr>\n",
              "    <tr>\n",
              "      <th>2</th>\n",
              "      <td>0.600000</td>\n",
              "      <td>Nice cartoons Percy on Mars Space technologies...</td>\n",
              "    </tr>\n",
              "    <tr>\n",
              "      <th>4</th>\n",
              "      <td>-0.125000</td>\n",
              "      <td>Alien on Earth Human on Mars Fiction Reality</td>\n",
              "    </tr>\n",
              "    <tr>\n",
              "      <th>10</th>\n",
              "      <td>0.250000</td>\n",
              "      <td>NASA Releases First Video and Audio of Rover L...</td>\n",
              "    </tr>\n",
              "  </tbody>\n",
              "</table>\n",
              "</div>"
            ],
            "text/plain": [
              "    polarity                                              tweet\n",
              "0   0.368182  Skys the limit with OceanOutdoorUK Amazing liv...\n",
              "1   0.537500  I want to congratulate NASA for such brilliant...\n",
              "2   0.600000  Nice cartoons Percy on Mars Space technologies...\n",
              "4  -0.125000       Alien on Earth Human on Mars Fiction Reality\n",
              "10  0.250000  NASA Releases First Video and Audio of Rover L..."
            ]
          },
          "metadata": {
            "tags": []
          },
          "execution_count": 51
        }
      ]
    },
    {
      "cell_type": "code",
      "metadata": {
        "colab": {
          "base_uri": "https://localhost:8080/",
          "height": 405
        },
        "id": "4IdqiqgzTy6d",
        "outputId": "1ce4070d-8449-456c-e96d-1b00450b7322"
      },
      "source": [
        "fig, ax = plt.subplots(figsize=(8, 6))\n",
        "\n",
        "wild_sent_df.hist(bins=[-1, -0.75, -0.5, -0.25, 0, 0.25, 0.5, 0.75, 1],\n",
        "        ax=ax, color=\"brown\")\n",
        "\n",
        "plt.title(\"Sentiments from Tweets on the Mars\")\n",
        "plt.show()"
      ],
      "execution_count": 52,
      "outputs": [
        {
          "output_type": "display_data",
          "data": {
            "image/png": "[encoded data removed]",
            "text/plain": [
              "<Figure size 576x432 with 1 Axes>"
            ]
          },
          "metadata": {
            "tags": []
          }
        }
      ]
    },
    {
      "cell_type": "code",
      "metadata": {
        "colab": {
          "base_uri": "https://localhost:8080/"
        },
        "id": "FJJ0EFktT4wO",
        "outputId": "665f4af2-57a1-4b6d-8548-de64badb5e9b"
      },
      "source": [
        "search_term = \"#Tianwen-1 -filter:retweets\"\n",
        "\n",
        "tweets = tw.Cursor(api.search,\n",
        "                   q=search_term,\n",
        "                   lang=\"en\",\n",
        "                   since='2020-07-23').items(1000)\n",
        "\n",
        "# Remove URLs and create textblob object for each tweet\n",
        "all_tweets_no_urls = [TextBlob(remove_url(tweet.text)) for tweet in tweets]\n",
        "\n",
        "all_tweets_no_urls[:5]"
      ],
      "execution_count": 57,
      "outputs": [
        {
          "output_type": "execute_result",
          "data": {
            "text/plain": [
              "[TextBlob(\"3 different missions to Mars have arrived Amal Hope Perseverance and Tianwen1 Quest for Heavenly Truth\"),\n",
              " TextBlob(\"There are 8 spacecraft orbiting Mars right now sent there by 6 different space agencies from around the world Chi\"),\n",
              " TextBlob(\"Chinas Tianwen1 probe on Monday performed an orbital manoeuvre around Mars days after it successfully entered th\"),\n",
              " TextBlob(\"PRCMarsRover Yesterday CCTV showed Tianwen1 rover model and president Xi together It shouldnt be that bad\"),\n",
              " TextBlob(\"Not a lot of news about UAEs hope that reached the mars orbit last week and Chinas Tianwen1 entered the orbit Feb 10 MissionsToMars\")]"
            ]
          },
          "metadata": {
            "tags": []
          },
          "execution_count": 57
        }
      ]
    },
    {
      "cell_type": "code",
      "metadata": {
        "colab": {
          "base_uri": "https://localhost:8080/",
          "height": 204
        },
        "id": "Zzjmro4_Uadz",
        "outputId": "684e1b45-61d1-478a-b097-703ff336c316"
      },
      "source": [
        "# Calculate polarity of tweets\n",
        "wild_sent_values = [[tweet.sentiment.polarity, str(tweet)] for tweet in all_tweets_no_urls]\n",
        "\n",
        "# Create dataframe containing polarity values and tweet text\n",
        "wild_sent_df = pd.DataFrame(wild_sent_values, columns=[\"polarity\", \"tweet\"])\n",
        "wild_sent_df = wild_sent_df[wild_sent_df.polarity != 0]\n",
        "\n",
        "wild_sent_df.head()"
      ],
      "execution_count": 58,
      "outputs": [
        {
          "output_type": "execute_result",
          "data": {
            "text/html": [
              "<div>\n",
              "<style scoped>\n",
              "    .dataframe tbody tr th:only-of-type {\n",
              "        vertical-align: middle;\n",
              "    }\n",
              "\n",
              "    .dataframe tbody tr th {\n",
              "        vertical-align: top;\n",
              "    }\n",
              "\n",
              "    .dataframe thead th {\n",
              "        text-align: right;\n",
              "    }\n",
              "</style>\n",
              "<table border=\"1\" class=\"dataframe\">\n",
              "  <thead>\n",
              "    <tr style=\"text-align: right;\">\n",
              "      <th></th>\n",
              "      <th>polarity</th>\n",
              "      <th>tweet</th>\n",
              "    </tr>\n",
              "  </thead>\n",
              "  <tbody>\n",
              "    <tr>\n",
              "      <th>1</th>\n",
              "      <td>0.142857</td>\n",
              "      <td>There are 8 spacecraft orbiting Mars right now...</td>\n",
              "    </tr>\n",
              "    <tr>\n",
              "      <th>2</th>\n",
              "      <td>0.750000</td>\n",
              "      <td>Chinas Tianwen1 probe on Monday performed an o...</td>\n",
              "    </tr>\n",
              "    <tr>\n",
              "      <th>3</th>\n",
              "      <td>-0.700000</td>\n",
              "      <td>PRCMarsRover Yesterday CCTV showed Tianwen1 ro...</td>\n",
              "    </tr>\n",
              "    <tr>\n",
              "      <th>6</th>\n",
              "      <td>0.250000</td>\n",
              "      <td>They dont even try simpler things first a la E...</td>\n",
              "    </tr>\n",
              "    <tr>\n",
              "      <th>7</th>\n",
              "      <td>0.750000</td>\n",
              "      <td>Incredible technological ability With the amaz...</td>\n",
              "    </tr>\n",
              "  </tbody>\n",
              "</table>\n",
              "</div>"
            ],
            "text/plain": [
              "   polarity                                              tweet\n",
              "1  0.142857  There are 8 spacecraft orbiting Mars right now...\n",
              "2  0.750000  Chinas Tianwen1 probe on Monday performed an o...\n",
              "3 -0.700000  PRCMarsRover Yesterday CCTV showed Tianwen1 ro...\n",
              "6  0.250000  They dont even try simpler things first a la E...\n",
              "7  0.750000  Incredible technological ability With the amaz..."
            ]
          },
          "metadata": {
            "tags": []
          },
          "execution_count": 58
        }
      ]
    },
    {
      "cell_type": "code",
      "metadata": {
        "colab": {
          "base_uri": "https://localhost:8080/",
          "height": 405
        },
        "id": "pqaroksJYlFd",
        "outputId": "33cc9417-a43b-4fc0-8602-d8633167e8ba"
      },
      "source": [
        "fig, ax = plt.subplots(figsize=(8, 6))\n",
        "\n",
        "wild_sent_df.hist(bins=[-1, -0.75, -0.5, -0.25, 0, 0.25, 0.5, 0.75, 1],\n",
        "        ax=ax, color=\"red\")\n",
        "\n",
        "plt.title(\"Sentiments from Tweets on Tianwen-1\")\n",
        "plt.show()"
      ],
      "execution_count": 60,
      "outputs": [
        {
          "output_type": "display_data",
          "data": {
            "image/png": "[encoded data removed]",
            "text/plain": [
              "<Figure size 576x432 with 1 Axes>"
            ]
          },
          "metadata": {
            "tags": []
          }
        }
      ]
    },
    {
      "cell_type": "code",
      "metadata": {
        "colab": {
          "base_uri": "https://localhost:8080/"
        },
        "id": "vB7nfzg_bs5i",
        "outputId": "021edd5d-70f7-4c7b-c02a-58a101ce0465"
      },
      "source": [
        "# Create textblob objects of the tweets\n",
        "sentiment_objects = [TextBlob(tweet) for tweet in tweets_no_urls]\n",
        "\n",
        "sentiment_objects[0].polarity, sentiment_objects[0]"
      ],
      "execution_count": 68,
      "outputs": [
        {
          "output_type": "execute_result",
          "data": {
            "text/plain": [
              "(0.0,\n",
              " TextBlob(\"Claim UAE has reserved jobs for those born on 9 Feb the day when HOPE Probe arrived on the orbit of Mars\"))"
            ]
          },
          "metadata": {
            "tags": []
          },
          "execution_count": 68
        }
      ]
    },
    {
      "cell_type": "code",
      "metadata": {
        "colab": {
          "base_uri": "https://localhost:8080/"
        },
        "id": "KfyrySJ-VJRj",
        "outputId": "74c1ad45-6e6f-4b41-a520-b5a00ea12e31"
      },
      "source": [
        "search_term = \"#mars2020 -filter:retweets\"\n",
        "\n",
        "tweets = tw.Cursor(api.search,\n",
        "                   q=search_term,\n",
        "                   lang=\"en\",\n",
        "                   since='30 July 2020').items(1000)\n",
        "\n",
        "# Remove URLs and create textblob object for each tweet\n",
        "all_tweets_no_urls = [TextBlob(remove_url(tweet.text)) for tweet in tweets]\n",
        "\n",
        "all_tweets_no_urls[:5]"
      ],
      "execution_count": 65,
      "outputs": [
        {
          "output_type": "execute_result",
          "data": {
            "text/plain": [
              "[TextBlob(\"360 degree view of Mars from the NASA Perseverance Rover PerseveranceRover is 9 foot six inches across 29 m\"),\n",
              " TextBlob(\"So NASAPersevere landed on Mars surface at 2055 UTC yesterday It was under the Mars 2020 mission launched\"),\n",
              " TextBlob(\"I never woke up feeling so ecstatic and relieved right now Launched on july 2020 and just landed earlier this mo\"),\n",
              " TextBlob(\"MarsPerseverance left Earth on July 30 2020 and finally landed on Mars today What an amazing accomplishment Th\"),\n",
              " TextBlob(\"CountdownToMarsMars2020 MarsLanding July 2020 Feb 2021\")]"
            ]
          },
          "metadata": {
            "tags": []
          },
          "execution_count": 65
        }
      ]
    },
    {
      "cell_type": "code",
      "metadata": {
        "colab": {
          "base_uri": "https://localhost:8080/",
          "height": 204
        },
        "id": "QSYK8ocOVySb",
        "outputId": "102fe744-84a8-4af4-f03a-ac71b2189ac1"
      },
      "source": [
        "# Calculate polarity of tweets\n",
        "wild_sent_values = [[tweet.sentiment.polarity, str(tweet)] for tweet in all_tweets_no_urls]\n",
        "\n",
        "# Create dataframe containing polarity values and tweet text\n",
        "wild_sent_df = pd.DataFrame(wild_sent_values, columns=[\"polarity\", \"tweet\"])\n",
        "wild_sent_df = wild_sent_df[wild_sent_df.polarity != 0]\n",
        "\n",
        "wild_sent_df.head()"
      ],
      "execution_count": 66,
      "outputs": [
        {
          "output_type": "execute_result",
          "data": {
            "text/html": [
              "<div>\n",
              "<style scoped>\n",
              "    .dataframe tbody tr th:only-of-type {\n",
              "        vertical-align: middle;\n",
              "    }\n",
              "\n",
              "    .dataframe tbody tr th {\n",
              "        vertical-align: top;\n",
              "    }\n",
              "\n",
              "    .dataframe thead th {\n",
              "        text-align: right;\n",
              "    }\n",
              "</style>\n",
              "<table border=\"1\" class=\"dataframe\">\n",
              "  <thead>\n",
              "    <tr style=\"text-align: right;\">\n",
              "      <th></th>\n",
              "      <th>polarity</th>\n",
              "      <th>tweet</th>\n",
              "    </tr>\n",
              "  </thead>\n",
              "  <tbody>\n",
              "    <tr>\n",
              "      <th>2</th>\n",
              "      <td>0.142857</td>\n",
              "      <td>I never woke up feeling so ecstatic and reliev...</td>\n",
              "    </tr>\n",
              "    <tr>\n",
              "      <th>3</th>\n",
              "      <td>0.200000</td>\n",
              "      <td>MarsPerseverance left Earth on July 30 2020 an...</td>\n",
              "    </tr>\n",
              "    <tr>\n",
              "      <th>9</th>\n",
              "      <td>-0.025000</td>\n",
              "      <td>Well after a long awaited journey since take o...</td>\n",
              "    </tr>\n",
              "    <tr>\n",
              "      <th>10</th>\n",
              "      <td>-0.187500</td>\n",
              "      <td>Just a little shoutout to Perseverance and its...</td>\n",
              "    </tr>\n",
              "    <tr>\n",
              "      <th>15</th>\n",
              "      <td>-0.250000</td>\n",
              "      <td>We are anxiously awaiting the landing of the P...</td>\n",
              "    </tr>\n",
              "  </tbody>\n",
              "</table>\n",
              "</div>"
            ],
            "text/plain": [
              "    polarity                                              tweet\n",
              "2   0.142857  I never woke up feeling so ecstatic and reliev...\n",
              "3   0.200000  MarsPerseverance left Earth on July 30 2020 an...\n",
              "9  -0.025000  Well after a long awaited journey since take o...\n",
              "10 -0.187500  Just a little shoutout to Perseverance and its...\n",
              "15 -0.250000  We are anxiously awaiting the landing of the P..."
            ]
          },
          "metadata": {
            "tags": []
          },
          "execution_count": 66
        }
      ]
    },
    {
      "cell_type": "code",
      "metadata": {
        "colab": {
          "base_uri": "https://localhost:8080/",
          "height": 405
        },
        "id": "kfNAWSsyX0OA",
        "outputId": "8bdf95f5-745f-4146-e5ce-c2eea4a9e268"
      },
      "source": [
        "fig, ax = plt.subplots(figsize=(8, 6))\n",
        "\n",
        "wild_sent_df.hist(bins=[-1, -0.75, -0.5, -0.25, 0, 0.25, 0.5, 0.75, 1],\n",
        "        ax=ax, color=\"blue\")\n",
        "\n",
        "plt.title(\"Sentiments from Tweets on the Mars2020\")\n",
        "plt.show()"
      ],
      "execution_count": 67,
      "outputs": [
        {
          "output_type": "display_data",
          "data": {
            "image/png": "[encoded data removed]",
            "text/plain": [
              "<Figure size 576x432 with 1 Axes>"
            ]
          },
          "metadata": {
            "tags": []
          }
        }
      ]
    },
    {
      "cell_type": "code",
      "metadata": {
        "id": "8ixZQ69ZjEc7",
        "colab": {
          "base_uri": "https://localhost:8080/",
          "height": 164
        },
        "outputId": "611384b7-dcf8-4074-e6fd-e8a5d0f8b84d"
      },
      "source": [
        "textBlob(\"I like mars\")"
      ],
      "execution_count": 69,
      "outputs": [
        {
          "output_type": "error",
          "ename": "NameError",
          "evalue": "ignored",
          "traceback": [
            "\u001b[0;31m---------------------------------------------------------------------------\u001b[0m",
            "\u001b[0;31mNameError\u001b[0m                                 Traceback (most recent call last)",
            "\u001b[0;32m<ipython-input-69-0cc02909f2d7>\u001b[0m in \u001b[0;36m<module>\u001b[0;34m()\u001b[0m\n\u001b[0;32m----> 1\u001b[0;31m \u001b[0mtextBlob\u001b[0m\u001b[0;34m(\u001b[0m\u001b[0;34m\"I like mars\"\u001b[0m\u001b[0;34m)\u001b[0m\u001b[0;34m\u001b[0m\u001b[0;34m\u001b[0m\u001b[0m\n\u001b[0m",
            "\u001b[0;31mNameError\u001b[0m: name 'textBlob' is not defined"
          ]
        }
      ]
    },
    {
      "cell_type": "code",
      "metadata": {
        "id": "bqH4zxlsxRjl"
      },
      "source": [
        ""
      ],
      "execution_count": null,
      "outputs": []
    }
  ]
}