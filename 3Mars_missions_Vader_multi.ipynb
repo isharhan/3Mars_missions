{
  "nbformat": 4,
  "nbformat_minor": 0,
  "metadata": {
    "colab": {
      "name": "Copy of Final.ipynb",
      "provenance": [],
      "collapsed_sections": [],
      "authorship_tag": "ABX9TyMJPaJPDJni6+7YsX88f41j",
      "include_colab_link": true
    },
    "kernelspec": {
      "name": "python3",
      "display_name": "Python 3"
    }
  },
  "cells": [
    {
      "cell_type": "markdown",
      "metadata": {
        "id": "view-in-github",
        "colab_type": "text"
      },
      "source": [
        "<a href=\"https://colab.research.google.com/github/isharhan/hello-world/blob/main/3Mars_missions_Vader_multi.ipynb\" target=\"_parent\"><img src=\"https://colab.research.google.com/assets/colab-badge.svg\" alt=\"Open In Colab\"/></a>"
      ]
    },
    {
      "cell_type": "code",
      "metadata": {
        "colab": {
          "base_uri": "https://localhost:8080/"
        },
        "id": "B70Cxd1QZ64X",
        "outputId": "9ec651a9-1fe0-409a-99c4-9e5b9953c6c5"
      },
      "source": [
        "pip install vader-multi"
      ],
      "execution_count": 1,
      "outputs": [
        {
          "output_type": "stream",
          "text": [
            "Collecting vader-multi\n",
            "\u001b[?25l  Downloading https://files.pythonhosted.org/packages/bf/a5/5ab19e6a3a5b84962302d070d407d857ed4156e407cb7be6c8a054fc2a57/vader_multi-3.2.2.1-py2.py3-none-any.whl (126kB)\n",
            "\r\u001b[K     |██▋                             | 10kB 16.9MB/s eta 0:00:01\r\u001b[K     |█████▏                          | 20kB 9.2MB/s eta 0:00:01\r\u001b[K     |███████▊                        | 30kB 8.5MB/s eta 0:00:01\r\u001b[K     |██████████▍                     | 40kB 7.5MB/s eta 0:00:01\r\u001b[K     |█████████████                   | 51kB 4.4MB/s eta 0:00:01\r\u001b[K     |███████████████▌                | 61kB 4.6MB/s eta 0:00:01\r\u001b[K     |██████████████████              | 71kB 4.8MB/s eta 0:00:01\r\u001b[K     |████████████████████▊           | 81kB 5.0MB/s eta 0:00:01\r\u001b[K     |███████████████████████▎        | 92kB 5.4MB/s eta 0:00:01\r\u001b[K     |█████████████████████████▉      | 102kB 5.6MB/s eta 0:00:01\r\u001b[K     |████████████████████████████▍   | 112kB 5.6MB/s eta 0:00:01\r\u001b[K     |███████████████████████████████ | 122kB 5.6MB/s eta 0:00:01\r\u001b[K     |████████████████████████████████| 133kB 5.6MB/s \n",
            "\u001b[?25hCollecting translatte\n",
            "  Downloading https://files.pythonhosted.org/packages/a1/37/5215b0e31e7bd8c3cb3f589f6ab70154b4a804fbc82d6939c010ef0597dc/translatte-0.1-py3-none-any.whl\n",
            "Requirement already satisfied: requests in /usr/local/lib/python3.6/dist-packages (from vader-multi) (2.23.0)\n",
            "Requirement already satisfied: chardet<4,>=3.0.2 in /usr/local/lib/python3.6/dist-packages (from requests->vader-multi) (3.0.4)\n",
            "Requirement already satisfied: idna<3,>=2.5 in /usr/local/lib/python3.6/dist-packages (from requests->vader-multi) (2.10)\n",
            "Requirement already satisfied: urllib3!=1.25.0,!=1.25.1,<1.26,>=1.21.1 in /usr/local/lib/python3.6/dist-packages (from requests->vader-multi) (1.24.3)\n",
            "Requirement already satisfied: certifi>=2017.4.17 in /usr/local/lib/python3.6/dist-packages (from requests->vader-multi) (2020.12.5)\n",
            "Installing collected packages: translatte, vader-multi\n",
            "Successfully installed translatte-0.1 vader-multi-3.2.2.1\n"
          ],
          "name": "stdout"
        }
      ]
    },
    {
      "cell_type": "code",
      "metadata": {
        "id": "xZQZB2KJZ7lR"
      },
      "source": [
        "from vaderSentiment.vaderSentiment import SentimentIntensityAnalyzer\n",
        "analyser = SentimentIntensityAnalyzer()"
      ],
      "execution_count": 2,
      "outputs": []
    },
    {
      "cell_type": "code",
      "metadata": {
        "colab": {
          "base_uri": "https://localhost:8080/"
        },
        "id": "XDl9WenqZ-_9",
        "outputId": "c2b6354f-2962-441b-9f7e-a2e7ab8ced35"
      },
      "source": [
        "analyser.polarity_scores(\"I’m so happy we finally have another rover on Mars\")"
      ],
      "execution_count": null,
      "outputs": [
        {
          "output_type": "execute_result",
          "data": {
            "text/plain": [
              "{'compound': 0.6115, 'neg': 0.0, 'neu': 0.693, 'pos': 0.307}"
            ]
          },
          "metadata": {
            "tags": []
          },
          "execution_count": 3
        }
      ]
    },
    {
      "cell_type": "code",
      "metadata": {
        "colab": {
          "base_uri": "https://localhost:8080/"
        },
        "id": "Qjq0i8EXaAXn",
        "outputId": "9788708d-bb38-4586-a89b-39e38fbaa0b9"
      },
      "source": [
        "analyser.polarity_scores(\"Why wasting money on Mars mission when you don’t have money for water and electricity\")"
      ],
      "execution_count": null,
      "outputs": [
        {
          "output_type": "execute_result",
          "data": {
            "text/plain": [
              "{'compound': -0.4019, 'neg': 0.162, 'neu': 0.838, 'pos': 0.0}"
            ]
          },
          "metadata": {
            "tags": []
          },
          "execution_count": 34
        }
      ]
    },
    {
      "cell_type": "code",
      "metadata": {
        "colab": {
          "base_uri": "https://localhost:8080/"
        },
        "id": "K_UFbHs4aCCI",
        "outputId": "2192d7bf-3a5c-4190-e7a9-4be943f27c0d"
      },
      "source": [
        "#In Chinese\n",
        "analyser.polarity_scores(\"我很高兴我们终于有了另一辆流浪者\")"
      ],
      "execution_count": null,
      "outputs": [
        {
          "output_type": "execute_result",
          "data": {
            "text/plain": [
              "{'compound': 0.4588, 'neg': 0.0, 'neu': 0.7, 'pos': 0.3}"
            ]
          },
          "metadata": {
            "tags": []
          },
          "execution_count": 35
        }
      ]
    },
    {
      "cell_type": "code",
      "metadata": {
        "colab": {
          "base_uri": "https://localhost:8080/"
        },
        "id": "pDgS2lS87ffn",
        "outputId": "1792beaf-f5cd-4451-c69f-7931bbb84263"
      },
      "source": [
        "#In Indian\n",
        "analyser.polarity_scores(\"जब आप पानी और बिजली के लिए पैसा नहीं देते तो मंगल मिशन पर पैसा क्यों बर्बाद करना\")"
      ],
      "execution_count": null,
      "outputs": [
        {
          "output_type": "execute_result",
          "data": {
            "text/plain": [
              "{'compound': -0.362, 'neg': 0.164, 'neu': 0.76, 'pos': 0.076}"
            ]
          },
          "metadata": {
            "tags": []
          },
          "execution_count": 36
        }
      ]
    },
    {
      "cell_type": "code",
      "metadata": {
        "colab": {
          "base_uri": "https://localhost:8080/"
        },
        "id": "9c-ODYv69ZrI",
        "outputId": "c0b7897f-5fb7-42d9-e066-cbbe0ad3beef"
      },
      "source": [
        "#In Arabic\n",
        "analyser.polarity_scores(\"ناسا الأمريكية تهنئ الإمارات بمناسبة وصول مسبار الأمل إلى المريخ\")"
      ],
      "execution_count": null,
      "outputs": [
        {
          "output_type": "execute_result",
          "data": {
            "text/plain": [
              "{'compound': 0.4404, 'neg': 0.0, 'neu': 0.805, 'pos': 0.195}"
            ]
          },
          "metadata": {
            "tags": []
          },
          "execution_count": 37
        }
      ]
    },
    {
      "cell_type": "code",
      "metadata": {
        "colab": {
          "base_uri": "https://localhost:8080/"
        },
        "id": "4CUex-VpaEcH",
        "outputId": "a38ea4ad-be86-49d4-9e0d-ea21c92a8713"
      },
      "source": [
        "pip install tweepy"
      ],
      "execution_count": 3,
      "outputs": [
        {
          "output_type": "stream",
          "text": [
            "Requirement already satisfied: tweepy in /usr/local/lib/python3.6/dist-packages (3.6.0)\n",
            "Requirement already satisfied: PySocks>=1.5.7 in /usr/local/lib/python3.6/dist-packages (from tweepy) (1.7.1)\n",
            "Requirement already satisfied: requests>=2.11.1 in /usr/local/lib/python3.6/dist-packages (from tweepy) (2.23.0)\n",
            "Requirement already satisfied: requests-oauthlib>=0.7.0 in /usr/local/lib/python3.6/dist-packages (from tweepy) (1.3.0)\n",
            "Requirement already satisfied: six>=1.10.0 in /usr/local/lib/python3.6/dist-packages (from tweepy) (1.15.0)\n",
            "Requirement already satisfied: idna<3,>=2.5 in /usr/local/lib/python3.6/dist-packages (from requests>=2.11.1->tweepy) (2.10)\n",
            "Requirement already satisfied: certifi>=2017.4.17 in /usr/local/lib/python3.6/dist-packages (from requests>=2.11.1->tweepy) (2020.12.5)\n",
            "Requirement already satisfied: urllib3!=1.25.0,!=1.25.1,<1.26,>=1.21.1 in /usr/local/lib/python3.6/dist-packages (from requests>=2.11.1->tweepy) (1.24.3)\n",
            "Requirement already satisfied: chardet<4,>=3.0.2 in /usr/local/lib/python3.6/dist-packages (from requests>=2.11.1->tweepy) (3.0.4)\n",
            "Requirement already satisfied: oauthlib>=3.0.0 in /usr/local/lib/python3.6/dist-packages (from requests-oauthlib>=0.7.0->tweepy) (3.1.0)\n"
          ],
          "name": "stdout"
        }
      ]
    },
    {
      "cell_type": "code",
      "metadata": {
        "id": "mzqbBFY3aHXu"
      },
      "source": [
        "import pandas as pd\n",
        "import numpy as np\n",
        "import matplotlib.pyplot as plt\n",
        "import time\n",
        "import tweepy\n",
        "import re\n"
      ],
      "execution_count": 4,
      "outputs": []
    },
    {
      "cell_type": "code",
      "metadata": {
        "id": "M6t6Z7UiaLYX"
      },
      "source": [
        "consumer_key = \"aKAvYeraEMQNHbzVG22rz3uMH\"\n",
        "consumer_secret = \"G5I0UZmi9TTadbQPppIwbYTPTIqAj6tkjswbOHmEddYZAaXpxt\"\n",
        "access_key = \"1850387936-ZPLc7EWyknMNUivIokQV3KO8ZTRiXrRcPEuOfOr\"\n",
        "access_secret = \"PlIKokmRHHs8SPkmrZrthsDV6ZvCFdiE2DthySmA2luO7\"\n",
        "    \n",
        "def initialize():\n",
        "    auth = tweepy.OAuthHandler(consumer_key, consumer_secret)\n",
        "    auth.set_access_token(access_key, access_secret)\n",
        "    api = tweepy.API(auth, parser = tweepy.parsers.JSONParser())\n",
        "    return api\n",
        "api = initialize()"
      ],
      "execution_count": 5,
      "outputs": []
    },
    {
      "cell_type": "code",
      "metadata": {
        "id": "MNqcMJ0QaTWr"
      },
      "source": [
        "comp_searches = (\"@HopeMarsMission\", \"@NASAPersevere\", \"@CNSA_en\")"
      ],
      "execution_count": 6,
      "outputs": []
    },
    {
      "cell_type": "code",
      "metadata": {
        "colab": {
          "base_uri": "https://localhost:8080/",
          "height": 359
        },
        "id": "TB9mnpDJaVGo",
        "outputId": "9318ba9d-7c99-486e-8034-e28cd53063f0"
      },
      "source": [
        "# Array to hold sentiment\n",
        "sentiments = []\n",
        "for search in comp_searches:\n",
        "  comp_tweets = api.user_timeline(search, count=100)\n",
        "  for tweet in comp_tweets:\n",
        "    text = tweet[\"text\"]\n",
        "    sentiments.append({\"User\": search,\n",
        "                           \"text\":text,\n",
        "                       \"Date\": tweet[\"created_at\"] \n",
        "                        })\n",
        "#convert array to dataframe\n",
        "df = pd.DataFrame.from_dict(sentiments)\n",
        "df.head(10)\n",
        "    \n",
        "    \n",
        "        \n",
        "        \n",
        "\n",
        "        "
      ],
      "execution_count": 7,
      "outputs": [
        {
          "output_type": "execute_result",
          "data": {
            "text/html": [
              "<div>\n",
              "<style scoped>\n",
              "    .dataframe tbody tr th:only-of-type {\n",
              "        vertical-align: middle;\n",
              "    }\n",
              "\n",
              "    .dataframe tbody tr th {\n",
              "        vertical-align: top;\n",
              "    }\n",
              "\n",
              "    .dataframe thead th {\n",
              "        text-align: right;\n",
              "    }\n",
              "</style>\n",
              "<table border=\"1\" class=\"dataframe\">\n",
              "  <thead>\n",
              "    <tr style=\"text-align: right;\">\n",
              "      <th></th>\n",
              "      <th>User</th>\n",
              "      <th>text</th>\n",
              "      <th>Date</th>\n",
              "    </tr>\n",
              "  </thead>\n",
              "  <tbody>\n",
              "    <tr>\n",
              "      <th>0</th>\n",
              "      <td>@HopeMarsMission</td>\n",
              "      <td>RT @HHShkMohd: Another successful mission has ...</td>\n",
              "      <td>Thu Feb 18 20:57:41 +0000 2021</td>\n",
              "    </tr>\n",
              "    <tr>\n",
              "      <th>1</th>\n",
              "      <td>@HopeMarsMission</td>\n",
              "      <td>RT @HHShkMohd: انضمت اليوم بعثة جديدة من كوكب ...</td>\n",
              "      <td>Thu Feb 18 20:57:39 +0000 2021</td>\n",
              "    </tr>\n",
              "    <tr>\n",
              "      <th>2</th>\n",
              "      <td>@HopeMarsMission</td>\n",
              "      <td>Inspired by @NASA's work since we were childre...</td>\n",
              "      <td>Thu Feb 18 20:57:11 +0000 2021</td>\n",
              "    </tr>\n",
              "    <tr>\n",
              "      <th>3</th>\n",
              "      <td>@HopeMarsMission</td>\n",
              "      <td>RT @HHShkMohd: نهنىء جمهورية الصين الشعبية بإن...</td>\n",
              "      <td>Wed Feb 17 05:19:55 +0000 2021</td>\n",
              "    </tr>\n",
              "    <tr>\n",
              "      <th>4</th>\n",
              "      <td>@HopeMarsMission</td>\n",
              "      <td>RT @MohamedBinZayed: The transmission of the H...</td>\n",
              "      <td>Sun Feb 14 09:37:55 +0000 2021</td>\n",
              "    </tr>\n",
              "    <tr>\n",
              "      <th>5</th>\n",
              "      <td>@HopeMarsMission</td>\n",
              "      <td>RT @MohamedBinZayed: إرسال أول صورة للمريخ بعد...</td>\n",
              "      <td>Sun Feb 14 09:37:53 +0000 2021</td>\n",
              "    </tr>\n",
              "    <tr>\n",
              "      <th>6</th>\n",
              "      <td>@HopeMarsMission</td>\n",
              "      <td>RT @HHShkMohd: من ارتفاع ٢٥ ألف كم عن سطح الكو...</td>\n",
              "      <td>Sun Feb 14 09:37:45 +0000 2021</td>\n",
              "    </tr>\n",
              "    <tr>\n",
              "      <th>7</th>\n",
              "      <td>@HopeMarsMission</td>\n",
              "      <td>RT @DXBMediaOffice: عمران شرف، مدير مشروع #الإ...</td>\n",
              "      <td>Fri Feb 12 07:08:09 +0000 2021</td>\n",
              "    </tr>\n",
              "    <tr>\n",
              "      <th>8</th>\n",
              "      <td>@HopeMarsMission</td>\n",
              "      <td>RT @DXBMediaOffice: Omran Sharaf, Project Dire...</td>\n",
              "      <td>Fri Feb 12 07:07:58 +0000 2021</td>\n",
              "    </tr>\n",
              "    <tr>\n",
              "      <th>9</th>\n",
              "      <td>@HopeMarsMission</td>\n",
              "      <td>RT @DXBMediaOffice: .@SarahAmiri1, Minister of...</td>\n",
              "      <td>Fri Feb 12 07:07:53 +0000 2021</td>\n",
              "    </tr>\n",
              "  </tbody>\n",
              "</table>\n",
              "</div>"
            ],
            "text/plain": [
              "               User  ...                            Date\n",
              "0  @HopeMarsMission  ...  Thu Feb 18 20:57:41 +0000 2021\n",
              "1  @HopeMarsMission  ...  Thu Feb 18 20:57:39 +0000 2021\n",
              "2  @HopeMarsMission  ...  Thu Feb 18 20:57:11 +0000 2021\n",
              "3  @HopeMarsMission  ...  Wed Feb 17 05:19:55 +0000 2021\n",
              "4  @HopeMarsMission  ...  Sun Feb 14 09:37:55 +0000 2021\n",
              "5  @HopeMarsMission  ...  Sun Feb 14 09:37:53 +0000 2021\n",
              "6  @HopeMarsMission  ...  Sun Feb 14 09:37:45 +0000 2021\n",
              "7  @HopeMarsMission  ...  Fri Feb 12 07:08:09 +0000 2021\n",
              "8  @HopeMarsMission  ...  Fri Feb 12 07:07:58 +0000 2021\n",
              "9  @HopeMarsMission  ...  Fri Feb 12 07:07:53 +0000 2021\n",
              "\n",
              "[10 rows x 3 columns]"
            ]
          },
          "metadata": {
            "tags": []
          },
          "execution_count": 7
        }
      ]
    },
    {
      "cell_type": "code",
      "metadata": {
        "colab": {
          "base_uri": "https://localhost:8080/",
          "height": 204
        },
        "id": "OrZvu6Uoaaiu",
        "outputId": "a5ec755a-8b3a-4c5a-8b7b-760a89c95679"
      },
      "source": [
        "#to see tweets for specific User name \n",
        "df_nasa = df[ df['User'] == '@NASAPersevere']\n",
        "df_nasa.head()"
      ],
      "execution_count": 8,
      "outputs": [
        {
          "output_type": "execute_result",
          "data": {
            "text/html": [
              "<div>\n",
              "<style scoped>\n",
              "    .dataframe tbody tr th:only-of-type {\n",
              "        vertical-align: middle;\n",
              "    }\n",
              "\n",
              "    .dataframe tbody tr th {\n",
              "        vertical-align: top;\n",
              "    }\n",
              "\n",
              "    .dataframe thead th {\n",
              "        text-align: right;\n",
              "    }\n",
              "</style>\n",
              "<table border=\"1\" class=\"dataframe\">\n",
              "  <thead>\n",
              "    <tr style=\"text-align: right;\">\n",
              "      <th></th>\n",
              "      <th>User</th>\n",
              "      <th>text</th>\n",
              "      <th>Date</th>\n",
              "    </tr>\n",
              "  </thead>\n",
              "  <tbody>\n",
              "    <tr>\n",
              "      <th>100</th>\n",
              "      <td>@NASAPersevere</td>\n",
              "      <td>RT @NASA: ‼️ HAPPENING NOW: @NASAPersevere exp...</td>\n",
              "      <td>Mon Feb 22 21:30:01 +0000 2021</td>\n",
              "    </tr>\n",
              "    <tr>\n",
              "      <th>101</th>\n",
              "      <td>@NASAPersevere</td>\n",
              "      <td>Scan this image for the various pieces of my l...</td>\n",
              "      <td>Mon Feb 22 20:52:23 +0000 2021</td>\n",
              "    </tr>\n",
              "    <tr>\n",
              "      <th>102</th>\n",
              "      <td>@NASAPersevere</td>\n",
              "      <td>More sounds of Mars: https://t.co/wRrDvkUxeC</td>\n",
              "      <td>Mon Feb 22 19:43:29 +0000 2021</td>\n",
              "    </tr>\n",
              "    <tr>\n",
              "      <th>103</th>\n",
              "      <td>@NASAPersevere</td>\n",
              "      <td>Now that you’ve seen Mars, hear it. Grab some ...</td>\n",
              "      <td>Mon Feb 22 19:43:28 +0000 2021</td>\n",
              "    </tr>\n",
              "    <tr>\n",
              "      <th>104</th>\n",
              "      <td>@NASAPersevere</td>\n",
              "      <td>Landing on Mars is a rush of tension, drama, a...</td>\n",
              "      <td>Mon Feb 22 19:30:21 +0000 2021</td>\n",
              "    </tr>\n",
              "  </tbody>\n",
              "</table>\n",
              "</div>"
            ],
            "text/plain": [
              "               User  ...                            Date\n",
              "100  @NASAPersevere  ...  Mon Feb 22 21:30:01 +0000 2021\n",
              "101  @NASAPersevere  ...  Mon Feb 22 20:52:23 +0000 2021\n",
              "102  @NASAPersevere  ...  Mon Feb 22 19:43:29 +0000 2021\n",
              "103  @NASAPersevere  ...  Mon Feb 22 19:43:28 +0000 2021\n",
              "104  @NASAPersevere  ...  Mon Feb 22 19:30:21 +0000 2021\n",
              "\n",
              "[5 rows x 3 columns]"
            ]
          },
          "metadata": {
            "tags": []
          },
          "execution_count": 8
        }
      ]
    },
    {
      "cell_type": "code",
      "metadata": {
        "colab": {
          "base_uri": "https://localhost:8080/",
          "height": 173
        },
        "id": "wxPl1QjtILEu",
        "outputId": "cc250bda-92ea-4857-9396-37498b6517e1"
      },
      "source": [
        "#to see tweets for specific User name \n",
        "df_china = df[ df['User'] == '@CNSA_en']\n",
        "df_china.head()"
      ],
      "execution_count": 9,
      "outputs": [
        {
          "output_type": "execute_result",
          "data": {
            "text/html": [
              "<div>\n",
              "<style scoped>\n",
              "    .dataframe tbody tr th:only-of-type {\n",
              "        vertical-align: middle;\n",
              "    }\n",
              "\n",
              "    .dataframe tbody tr th {\n",
              "        vertical-align: top;\n",
              "    }\n",
              "\n",
              "    .dataframe thead th {\n",
              "        text-align: right;\n",
              "    }\n",
              "</style>\n",
              "<table border=\"1\" class=\"dataframe\">\n",
              "  <thead>\n",
              "    <tr style=\"text-align: right;\">\n",
              "      <th></th>\n",
              "      <th>User</th>\n",
              "      <th>text</th>\n",
              "      <th>Date</th>\n",
              "    </tr>\n",
              "  </thead>\n",
              "  <tbody>\n",
              "    <tr>\n",
              "      <th>200</th>\n",
              "      <td>@CNSA_en</td>\n",
              "      <td>RT @ChinaEUMission: #China and @UNOOSA signed ...</td>\n",
              "      <td>Wed Jun 20 16:07:30 +0000 2018</td>\n",
              "    </tr>\n",
              "    <tr>\n",
              "      <th>201</th>\n",
              "      <td>@CNSA_en</td>\n",
              "      <td>RT @UNOOSA: Press release: United Nations and ...</td>\n",
              "      <td>Wed Jun 20 16:05:29 +0000 2018</td>\n",
              "    </tr>\n",
              "    <tr>\n",
              "      <th>202</th>\n",
              "      <td>@CNSA_en</td>\n",
              "      <td>RT @UNOOSA: 50 day #countdown to #UNISPACE50:\\...</td>\n",
              "      <td>Wed Jun 20 16:05:12 +0000 2018</td>\n",
              "    </tr>\n",
              "    <tr>\n",
              "      <th>203</th>\n",
              "      <td>@CNSA_en</td>\n",
              "      <td>RT @UNOOSA: Great to see so many leaders of sp...</td>\n",
              "      <td>Wed Jun 20 13:46:47 +0000 2018</td>\n",
              "    </tr>\n",
              "  </tbody>\n",
              "</table>\n",
              "</div>"
            ],
            "text/plain": [
              "         User  ...                            Date\n",
              "200  @CNSA_en  ...  Wed Jun 20 16:07:30 +0000 2018\n",
              "201  @CNSA_en  ...  Wed Jun 20 16:05:29 +0000 2018\n",
              "202  @CNSA_en  ...  Wed Jun 20 16:05:12 +0000 2018\n",
              "203  @CNSA_en  ...  Wed Jun 20 13:46:47 +0000 2018\n",
              "\n",
              "[4 rows x 3 columns]"
            ]
          },
          "metadata": {
            "tags": []
          },
          "execution_count": 9
        }
      ]
    },
    {
      "cell_type": "code",
      "metadata": {
        "colab": {
          "base_uri": "https://localhost:8080/",
          "height": 204
        },
        "id": "SYHO9D_qISPc",
        "outputId": "6b92419c-65b9-455e-ba4a-fa13acf79d6e"
      },
      "source": [
        "#to see tweets for specific User name \n",
        "df_uae = df[ df['User'] == '@HopeMarsMission']\n",
        "df_uae.head()"
      ],
      "execution_count": 10,
      "outputs": [
        {
          "output_type": "execute_result",
          "data": {
            "text/html": [
              "<div>\n",
              "<style scoped>\n",
              "    .dataframe tbody tr th:only-of-type {\n",
              "        vertical-align: middle;\n",
              "    }\n",
              "\n",
              "    .dataframe tbody tr th {\n",
              "        vertical-align: top;\n",
              "    }\n",
              "\n",
              "    .dataframe thead th {\n",
              "        text-align: right;\n",
              "    }\n",
              "</style>\n",
              "<table border=\"1\" class=\"dataframe\">\n",
              "  <thead>\n",
              "    <tr style=\"text-align: right;\">\n",
              "      <th></th>\n",
              "      <th>User</th>\n",
              "      <th>text</th>\n",
              "      <th>Date</th>\n",
              "    </tr>\n",
              "  </thead>\n",
              "  <tbody>\n",
              "    <tr>\n",
              "      <th>0</th>\n",
              "      <td>@HopeMarsMission</td>\n",
              "      <td>RT @HHShkMohd: Another successful mission has ...</td>\n",
              "      <td>Thu Feb 18 20:57:41 +0000 2021</td>\n",
              "    </tr>\n",
              "    <tr>\n",
              "      <th>1</th>\n",
              "      <td>@HopeMarsMission</td>\n",
              "      <td>RT @HHShkMohd: انضمت اليوم بعثة جديدة من كوكب ...</td>\n",
              "      <td>Thu Feb 18 20:57:39 +0000 2021</td>\n",
              "    </tr>\n",
              "    <tr>\n",
              "      <th>2</th>\n",
              "      <td>@HopeMarsMission</td>\n",
              "      <td>Inspired by @NASA's work since we were childre...</td>\n",
              "      <td>Thu Feb 18 20:57:11 +0000 2021</td>\n",
              "    </tr>\n",
              "    <tr>\n",
              "      <th>3</th>\n",
              "      <td>@HopeMarsMission</td>\n",
              "      <td>RT @HHShkMohd: نهنىء جمهورية الصين الشعبية بإن...</td>\n",
              "      <td>Wed Feb 17 05:19:55 +0000 2021</td>\n",
              "    </tr>\n",
              "    <tr>\n",
              "      <th>4</th>\n",
              "      <td>@HopeMarsMission</td>\n",
              "      <td>RT @MohamedBinZayed: The transmission of the H...</td>\n",
              "      <td>Sun Feb 14 09:37:55 +0000 2021</td>\n",
              "    </tr>\n",
              "  </tbody>\n",
              "</table>\n",
              "</div>"
            ],
            "text/plain": [
              "               User  ...                            Date\n",
              "0  @HopeMarsMission  ...  Thu Feb 18 20:57:41 +0000 2021\n",
              "1  @HopeMarsMission  ...  Thu Feb 18 20:57:39 +0000 2021\n",
              "2  @HopeMarsMission  ...  Thu Feb 18 20:57:11 +0000 2021\n",
              "3  @HopeMarsMission  ...  Wed Feb 17 05:19:55 +0000 2021\n",
              "4  @HopeMarsMission  ...  Sun Feb 14 09:37:55 +0000 2021\n",
              "\n",
              "[5 rows x 3 columns]"
            ]
          },
          "metadata": {
            "tags": []
          },
          "execution_count": 10
        }
      ]
    },
    {
      "cell_type": "code",
      "metadata": {
        "id": "F9zvnIO3gK-V"
      },
      "source": [
        "#cleaning the tweets\n",
        "def remove_pattern(input_txt, pattern):\n",
        "    r = re.findall(pattern, input_txt)\n",
        "    for i in r:\n",
        "        input_txt = re.sub(i, '', input_txt)        \n",
        "    return input_txt\n",
        "def clean_tweets(tweets):\n",
        "    #remove twitter Return handles (RT @xxx:)\n",
        "    tweets = np.vectorize(remove_pattern)(tweets, \"RT @[\\w]*:\") \n",
        "    \n",
        "    #remove twitter handles (@xxx)\n",
        "    tweets = np.vectorize(remove_pattern)(tweets, \"@[\\w]*\")\n",
        "    \n",
        "    #remove URL links (httpxxx)\n",
        "    tweets = np.vectorize(remove_pattern)(tweets, \"https?://[A-Za-z0-9./]*\")\n",
        "    \n",
        "    #remove special characters, numbers, punctuations (except for #)\n",
        "    tweets = np.core.defchararray.replace(tweets, \"[^a-zA-Z]\", \" \")\n",
        "    \n",
        "    return tweets"
      ],
      "execution_count": 11,
      "outputs": []
    },
    {
      "cell_type": "code",
      "metadata": {
        "colab": {
          "base_uri": "https://localhost:8080/"
        },
        "id": "So7Lq94hgYZa",
        "outputId": "d55e838b-63fe-4231-f2b2-84a1fa91a61c"
      },
      "source": [
        "df['text'] = clean_tweets(df['text'])\n",
        "df['text'].head()"
      ],
      "execution_count": 12,
      "outputs": [
        {
          "output_type": "execute_result",
          "data": {
            "text/plain": [
              "0     Another successful mission has just reached M...\n",
              "1     انضمت اليوم بعثة جديدة من كوكب الأرض للكوكب ا...\n",
              "2    Inspired by 's work since we were children, we...\n",
              "3     نهنىء جمهورية الصين الشعبية بإنجازها العظيم و...\n",
              "4     The transmission of the Hope Probe's first im...\n",
              "Name: text, dtype: object"
            ]
          },
          "metadata": {
            "tags": []
          },
          "execution_count": 12
        }
      ]
    },
    {
      "cell_type": "code",
      "metadata": {
        "id": "-W8fo8pHjfGF"
      },
      "source": [
        "scores = []\n",
        "# Declare variables for scores\n",
        "compound_list = []\n",
        "positive_list = []\n",
        "negative_list = []\n",
        "neutral_list = []\n",
        "for i in range(df['text'].shape[0]):\n",
        "#print(analyser.polarity_scores(sentiments_pd['text'][i]))\n",
        "    pos = analyser.polarity_scores(df['text'][i])[\"pos\"]\n",
        "    compound = analyser.polarity_scores(df['text'][i])[\"compound\"]\n",
        "    neu = analyser.polarity_scores(df['text'][i])[\"neu\"]\n",
        "    neg = analyser.polarity_scores(df['text'][i])[\"neg\"]\n",
        "    \n",
        "    scores.append({\"Compound\": compound,\n",
        "                       \"Positive\": pos,\n",
        "                       \"Negative\": neg,\n",
        "                       \"Neutral\": neu\n",
        "                  })"
      ],
      "execution_count": 13,
      "outputs": []
    },
    {
      "cell_type": "code",
      "metadata": {
        "colab": {
          "base_uri": "https://localhost:8080/",
          "height": 204
        },
        "id": "50gKHk5sjh2k",
        "outputId": "5915cf84-f3a5-45d1-f6e9-1894c3e4e700"
      },
      "source": [
        "sentiments_score = pd.DataFrame.from_dict(scores)\n",
        "df = df.join(sentiments_score)\n",
        "df.head()"
      ],
      "execution_count": 14,
      "outputs": [
        {
          "output_type": "execute_result",
          "data": {
            "text/html": [
              "<div>\n",
              "<style scoped>\n",
              "    .dataframe tbody tr th:only-of-type {\n",
              "        vertical-align: middle;\n",
              "    }\n",
              "\n",
              "    .dataframe tbody tr th {\n",
              "        vertical-align: top;\n",
              "    }\n",
              "\n",
              "    .dataframe thead th {\n",
              "        text-align: right;\n",
              "    }\n",
              "</style>\n",
              "<table border=\"1\" class=\"dataframe\">\n",
              "  <thead>\n",
              "    <tr style=\"text-align: right;\">\n",
              "      <th></th>\n",
              "      <th>User</th>\n",
              "      <th>text</th>\n",
              "      <th>Date</th>\n",
              "      <th>Compound</th>\n",
              "      <th>Positive</th>\n",
              "      <th>Negative</th>\n",
              "      <th>Neutral</th>\n",
              "    </tr>\n",
              "  </thead>\n",
              "  <tbody>\n",
              "    <tr>\n",
              "      <th>0</th>\n",
              "      <td>@HopeMarsMission</td>\n",
              "      <td>Another successful mission has just reached M...</td>\n",
              "      <td>Thu Feb 18 20:57:41 +0000 2021</td>\n",
              "      <td>0.9403</td>\n",
              "      <td>0.547</td>\n",
              "      <td>0.0</td>\n",
              "      <td>0.453</td>\n",
              "    </tr>\n",
              "    <tr>\n",
              "      <th>1</th>\n",
              "      <td>@HopeMarsMission</td>\n",
              "      <td>انضمت اليوم بعثة جديدة من كوكب الأرض للكوكب ا...</td>\n",
              "      <td>Thu Feb 18 20:57:39 +0000 2021</td>\n",
              "      <td>0.8689</td>\n",
              "      <td>0.266</td>\n",
              "      <td>0.0</td>\n",
              "      <td>0.734</td>\n",
              "    </tr>\n",
              "    <tr>\n",
              "      <th>2</th>\n",
              "      <td>@HopeMarsMission</td>\n",
              "      <td>Inspired by 's work since we were children, we...</td>\n",
              "      <td>Thu Feb 18 20:57:11 +0000 2021</td>\n",
              "      <td>0.7351</td>\n",
              "      <td>0.256</td>\n",
              "      <td>0.0</td>\n",
              "      <td>0.744</td>\n",
              "    </tr>\n",
              "    <tr>\n",
              "      <th>3</th>\n",
              "      <td>@HopeMarsMission</td>\n",
              "      <td>نهنىء جمهورية الصين الشعبية بإنجازها العظيم و...</td>\n",
              "      <td>Wed Feb 17 05:19:55 +0000 2021</td>\n",
              "      <td>0.9403</td>\n",
              "      <td>0.344</td>\n",
              "      <td>0.0</td>\n",
              "      <td>0.656</td>\n",
              "    </tr>\n",
              "    <tr>\n",
              "      <th>4</th>\n",
              "      <td>@HopeMarsMission</td>\n",
              "      <td>The transmission of the Hope Probe's first im...</td>\n",
              "      <td>Sun Feb 14 09:37:55 +0000 2021</td>\n",
              "      <td>0.4404</td>\n",
              "      <td>0.121</td>\n",
              "      <td>0.0</td>\n",
              "      <td>0.879</td>\n",
              "    </tr>\n",
              "  </tbody>\n",
              "</table>\n",
              "</div>"
            ],
            "text/plain": [
              "               User  ... Neutral\n",
              "0  @HopeMarsMission  ...   0.453\n",
              "1  @HopeMarsMission  ...   0.734\n",
              "2  @HopeMarsMission  ...   0.744\n",
              "3  @HopeMarsMission  ...   0.656\n",
              "4  @HopeMarsMission  ...   0.879\n",
              "\n",
              "[5 rows x 7 columns]"
            ]
          },
          "metadata": {
            "tags": []
          },
          "execution_count": 14
        }
      ]
    },
    {
      "cell_type": "code",
      "metadata": {
        "colab": {
          "base_uri": "https://localhost:8080/"
        },
        "id": "lax3inXJjnb8",
        "outputId": "0b4a667e-e518-499f-92f7-bb2bc6873e9d"
      },
      "source": [
        "HT_positive = []\n",
        "def hashtag_extract(x):\n",
        "    hashtags = []\n",
        "    # Loop over the words in the tweet\n",
        "    for i in x:\n",
        "        ht = re.findall(r\"#(\\w+)\", i)\n",
        "        hashtags.append(ht)\n",
        "    return hashtags\n",
        "# extracting hashtags from positive tweetsHT_positive = hashtag_extract(df_tws['text'][df_tws['sent'] == 1])\n",
        "# extracting hashtags from  tweets\n",
        "HT_positive = hashtag_extract(df['text'][df['Compound'] > 0.5])\n",
        "# unnesting list\n",
        "HT_positive = sum(HT_positive,[])\n",
        "HT_positive"
      ],
      "execution_count": 15,
      "outputs": [
        {
          "output_type": "execute_result",
          "data": {
            "text/plain": [
              "['العرب_إلى_المريخ',\n",
              " 'مسبار_الأمل',\n",
              " 'ArabsToMars',\n",
              " 'HopeProbe',\n",
              " 'العرب_إلى_المريخ',\n",
              " 'مسبار_الأمل',\n",
              " 'ArabsToMars',\n",
              " 'HopeProbe',\n",
              " 'العرب_إلى_المريخ',\n",
              " 'مسبار_الأمل',\n",
              " 'العرب_إلى_المريخ',\n",
              " 'HopeProbe',\n",
              " 'ArabsToMars',\n",
              " 'مسبار_الأمل',\n",
              " 'العرب_إلى_المريخ',\n",
              " 'العرب_إلى_المريخ',\n",
              " 'مسبار_الأمل',\n",
              " 'ArabsToMars',\n",
              " 'HopeProbe',\n",
              " 'ArabsToMars',\n",
              " 'HopeProbe',\n",
              " 'العرب_إلى_المريخ',\n",
              " 'مسبار_الأمل',\n",
              " 'مسبار_الأمل',\n",
              " 'مسبار_الأمل',\n",
              " 'المريخ',\n",
              " 'العرب_إلى_المريخ',\n",
              " 'CountdownToMars',\n",
              " 'UNISPACE50']"
            ]
          },
          "metadata": {
            "tags": []
          },
          "execution_count": 15
        }
      ]
    },
    {
      "cell_type": "code",
      "metadata": {
        "colab": {
          "base_uri": "https://localhost:8080/",
          "height": 366
        },
        "id": "UOSuo-EtjqIv",
        "outputId": "4990981d-2d5f-47ab-bbfb-f4fd8f1f84f6"
      },
      "source": [
        "from wordcloud import WordCloud, STOPWORDS, ImageColorGenerator\n",
        "def word_cloud(wd_list):\n",
        "    stopwords = set(STOPWORDS)\n",
        "    all_words = ' '.join([text for text in wd_list])\n",
        "    wordcloud = WordCloud(\n",
        "        background_color='white',\n",
        "        stopwords=stopwords,\n",
        "        width=int(1600),\n",
        "        height=int(800),\n",
        "        random_state=1,\n",
        "        colormap='jet',\n",
        "        max_words=80,\n",
        "        max_font_size=150).generate(all_words)\n",
        "    plt.figure(figsize=(12, 10))\n",
        "    plt.axis('off')\n",
        "    plt.imshow(wordcloud, interpolation=\"bilinear\");\n",
        "word_cloud(df['text'])"
      ],
      "execution_count": 16,
      "outputs": [
        {
          "output_type": "display_data",
          "data": {
            "image/png": "[encoded data removed]",
            "text/plain": [
              "<Figure size 864x720 with 1 Axes>"
            ]
          },
          "metadata": {
            "tags": [],
            "needs_background": "light"
          }
        }
      ]
    },
    {
      "cell_type": "code",
      "metadata": {
        "colab": {
          "base_uri": "https://localhost:8080/",
          "height": 173
        },
        "id": "mWhyYBkLG4GI",
        "outputId": "8f357336-251f-48da-a2a6-2c8bc6eb9884"
      },
      "source": [
        "#Collect the Positive values for each news source\n",
        "pos_score_table = df.pivot_table(index='User',  values=\"Positive\", aggfunc = np.mean)\n",
        "pos_score_table"
      ],
      "execution_count": 17,
      "outputs": [
        {
          "output_type": "execute_result",
          "data": {
            "text/html": [
              "<div>\n",
              "<style scoped>\n",
              "    .dataframe tbody tr th:only-of-type {\n",
              "        vertical-align: middle;\n",
              "    }\n",
              "\n",
              "    .dataframe tbody tr th {\n",
              "        vertical-align: top;\n",
              "    }\n",
              "\n",
              "    .dataframe thead th {\n",
              "        text-align: right;\n",
              "    }\n",
              "</style>\n",
              "<table border=\"1\" class=\"dataframe\">\n",
              "  <thead>\n",
              "    <tr style=\"text-align: right;\">\n",
              "      <th></th>\n",
              "      <th>Positive</th>\n",
              "    </tr>\n",
              "    <tr>\n",
              "      <th>User</th>\n",
              "      <th></th>\n",
              "    </tr>\n",
              "  </thead>\n",
              "  <tbody>\n",
              "    <tr>\n",
              "      <th>@CNSA_en</th>\n",
              "      <td>0.15125</td>\n",
              "    </tr>\n",
              "    <tr>\n",
              "      <th>@HopeMarsMission</th>\n",
              "      <td>0.16547</td>\n",
              "    </tr>\n",
              "    <tr>\n",
              "      <th>@NASAPersevere</th>\n",
              "      <td>0.09635</td>\n",
              "    </tr>\n",
              "  </tbody>\n",
              "</table>\n",
              "</div>"
            ],
            "text/plain": [
              "                  Positive\n",
              "User                      \n",
              "@CNSA_en           0.15125\n",
              "@HopeMarsMission   0.16547\n",
              "@NASAPersevere     0.09635"
            ]
          },
          "metadata": {
            "tags": []
          },
          "execution_count": 17
        }
      ]
    },
    {
      "cell_type": "code",
      "metadata": {
        "colab": {
          "base_uri": "https://localhost:8080/",
          "height": 384
        },
        "id": "Or8AugBkG_Xy",
        "outputId": "ede0eb2f-aab7-4c59-adbd-9ba80856a7e4"
      },
      "source": [
        "#plotting \n",
        "pos_score_table.plot(kind='bar',color= 'green')"
      ],
      "execution_count": 27,
      "outputs": [
        {
          "output_type": "execute_result",
          "data": {
            "text/plain": [
              "<matplotlib.axes._subplots.AxesSubplot at 0x7f092623dcf8>"
            ]
          },
          "metadata": {
            "tags": []
          },
          "execution_count": 27
        },
        {
          "output_type": "display_data",
          "data": {
            "image/png": "[encoded data removed]",
            "text/plain": [
              "<Figure size 432x288 with 1 Axes>"
            ]
          },
          "metadata": {
            "tags": [],
            "needs_background": "light"
          }
        }
      ]
    },
    {
      "cell_type": "code",
      "metadata": {
        "colab": {
          "base_uri": "https://localhost:8080/",
          "height": 173
        },
        "id": "VoIyy8u7jvny",
        "outputId": "1273b7d9-1afd-4669-e421-fd396c258f50"
      },
      "source": [
        "#Collect the negative values for each news source\n",
        "neg_score_table = df.pivot_table(index='User',  values=\"Negative\", aggfunc = np.mean)\n",
        "neg_score_table"
      ],
      "execution_count": 19,
      "outputs": [
        {
          "output_type": "execute_result",
          "data": {
            "text/html": [
              "<div>\n",
              "<style scoped>\n",
              "    .dataframe tbody tr th:only-of-type {\n",
              "        vertical-align: middle;\n",
              "    }\n",
              "\n",
              "    .dataframe tbody tr th {\n",
              "        vertical-align: top;\n",
              "    }\n",
              "\n",
              "    .dataframe thead th {\n",
              "        text-align: right;\n",
              "    }\n",
              "</style>\n",
              "<table border=\"1\" class=\"dataframe\">\n",
              "  <thead>\n",
              "    <tr style=\"text-align: right;\">\n",
              "      <th></th>\n",
              "      <th>Negative</th>\n",
              "    </tr>\n",
              "    <tr>\n",
              "      <th>User</th>\n",
              "      <th></th>\n",
              "    </tr>\n",
              "  </thead>\n",
              "  <tbody>\n",
              "    <tr>\n",
              "      <th>@CNSA_en</th>\n",
              "      <td>0.00000</td>\n",
              "    </tr>\n",
              "    <tr>\n",
              "      <th>@HopeMarsMission</th>\n",
              "      <td>0.00376</td>\n",
              "    </tr>\n",
              "    <tr>\n",
              "      <th>@NASAPersevere</th>\n",
              "      <td>0.01211</td>\n",
              "    </tr>\n",
              "  </tbody>\n",
              "</table>\n",
              "</div>"
            ],
            "text/plain": [
              "                  Negative\n",
              "User                      \n",
              "@CNSA_en           0.00000\n",
              "@HopeMarsMission   0.00376\n",
              "@NASAPersevere     0.01211"
            ]
          },
          "metadata": {
            "tags": []
          },
          "execution_count": 19
        }
      ]
    },
    {
      "cell_type": "code",
      "metadata": {
        "id": "cmp5nCJvnrLd",
        "colab": {
          "base_uri": "https://localhost:8080/",
          "height": 173
        },
        "outputId": "8673092e-8bf5-483a-83ba-e679fbd0ad44"
      },
      "source": [
        "#Collect the compound values for each news source\n",
        "score_table = df.pivot_table(index='User',  values=\"Compound\", aggfunc = np.mean)\n",
        "score_table"
      ],
      "execution_count": 18,
      "outputs": [
        {
          "output_type": "execute_result",
          "data": {
            "text/html": [
              "<div>\n",
              "<style scoped>\n",
              "    .dataframe tbody tr th:only-of-type {\n",
              "        vertical-align: middle;\n",
              "    }\n",
              "\n",
              "    .dataframe tbody tr th {\n",
              "        vertical-align: top;\n",
              "    }\n",
              "\n",
              "    .dataframe thead th {\n",
              "        text-align: right;\n",
              "    }\n",
              "</style>\n",
              "<table border=\"1\" class=\"dataframe\">\n",
              "  <thead>\n",
              "    <tr style=\"text-align: right;\">\n",
              "      <th></th>\n",
              "      <th>Compound</th>\n",
              "    </tr>\n",
              "    <tr>\n",
              "      <th>User</th>\n",
              "      <th></th>\n",
              "    </tr>\n",
              "  </thead>\n",
              "  <tbody>\n",
              "    <tr>\n",
              "      <th>@CNSA_en</th>\n",
              "      <td>0.406475</td>\n",
              "    </tr>\n",
              "    <tr>\n",
              "      <th>@HopeMarsMission</th>\n",
              "      <td>0.456652</td>\n",
              "    </tr>\n",
              "    <tr>\n",
              "      <th>@NASAPersevere</th>\n",
              "      <td>0.186416</td>\n",
              "    </tr>\n",
              "  </tbody>\n",
              "</table>\n",
              "</div>"
            ],
            "text/plain": [
              "                  Compound\n",
              "User                      \n",
              "@CNSA_en          0.406475\n",
              "@HopeMarsMission  0.456652\n",
              "@NASAPersevere    0.186416"
            ]
          },
          "metadata": {
            "tags": []
          },
          "execution_count": 18
        }
      ]
    },
    {
      "cell_type": "code",
      "metadata": {
        "colab": {
          "base_uri": "https://localhost:8080/",
          "height": 384
        },
        "id": "XvRDAYuDF1az",
        "outputId": "9724ca10-3414-43d0-a16c-7c2b29d4f10a"
      },
      "source": [
        "#plotting \n",
        "score_table.plot(kind='bar')"
      ],
      "execution_count": 29,
      "outputs": [
        {
          "output_type": "execute_result",
          "data": {
            "text/plain": [
              "<matplotlib.axes._subplots.AxesSubplot at 0x7f09262b5cc0>"
            ]
          },
          "metadata": {
            "tags": []
          },
          "execution_count": 29
        },
        {
          "output_type": "display_data",
          "data": {
            "image/png": "[encoded data removed]",
            "text/plain": [
              "<Figure size 432x288 with 1 Axes>"
            ]
          },
          "metadata": {
            "tags": [],
            "needs_background": "light"
          }
        }
      ]
    },
    {
      "cell_type": "code",
      "metadata": {
        "colab": {
          "base_uri": "https://localhost:8080/",
          "height": 384
        },
        "id": "Qtf8H9ZRF3Q8",
        "outputId": "343c5836-098b-4c9b-b283-a28d0777b230"
      },
      "source": [
        "neg_score_table.plot(kind='bar',color='red')"
      ],
      "execution_count": 24,
      "outputs": [
        {
          "output_type": "execute_result",
          "data": {
            "text/plain": [
              "<matplotlib.axes._subplots.AxesSubplot at 0x7f09262facc0>"
            ]
          },
          "metadata": {
            "tags": []
          },
          "execution_count": 24
        },
        {
          "output_type": "display_data",
          "data": {
            "image/png": "[encoded data removed]",
            "text/plain": [
              "<Figure size 432x288 with 1 Axes>"
            ]
          },
          "metadata": {
            "tags": [],
            "needs_background": "light"
          }
        }
      ]
    },
    {
      "cell_type": "code",
      "metadata": {
        "id": "SUK68ebNwLS_"
      },
      "source": [
        ""
      ],
      "execution_count": null,
      "outputs": []
    },
    {
      "cell_type": "code",
      "metadata": {
        "id": "e4C_TpKMGbJW"
      },
      "source": [
        ""
      ],
      "execution_count": null,
      "outputs": []
    }
  ]
}